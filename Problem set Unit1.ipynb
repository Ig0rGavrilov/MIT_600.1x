{
 "cells": [
  {
   "cell_type": "code",
   "execution_count": 2,
   "id": "68efa30d",
   "metadata": {},
   "outputs": [
    {
     "name": "stdout",
     "output_type": "stream",
     "text": [
      "Number of vowels:  6\n"
     ]
    }
   ],
   "source": [
    "s = 'azcbobobegghakl'\n",
    "\n",
    "count=0\n",
    "for i in s:\n",
    "    if i=='a' or i=='e' or i=='i' or i=='u' or i=='o':\n",
    "        count +=1\n",
    "print('Number of vowels: ', count)"
   ]
  },
  {
   "cell_type": "markdown",
   "id": "7cb37cad",
   "metadata": {},
   "source": [
    "# Problem 2\n"
   ]
  },
  {
   "cell_type": "markdown",
   "id": "f38a387d",
   "metadata": {},
   "source": [
    "Assume s is a string of lower case characters.\n",
    "\n",
    "Write a program that prints the number of times the string 'bob' occurs in s. For example, if s = 'azcbobobegghakl', then your program should print"
   ]
  },
  {
   "cell_type": "code",
   "execution_count": 3,
   "id": "f7bcfa4c",
   "metadata": {},
   "outputs": [
    {
     "name": "stdout",
     "output_type": "stream",
     "text": [
      "Number of times bob occurs is:  23\n"
     ]
    }
   ],
   "source": [
    "s = 'azcbobobegghakl'\n",
    "count=0\n",
    "frst =False\n",
    "scnd=False\n",
    "for i in s: \n",
    "    if i=='b':\n",
    "        frst = True\n",
    "    if frst == True and i=='o':\n",
    "        scnd = True\n",
    "    \n",
    "    if frst == True and scnd ==True and i =='b':\n",
    "        count+=1\n",
    "        \n",
    "print('Number of times bob occurs is: ', count )"
   ]
  },
  {
   "cell_type": "code",
   "execution_count": 4,
   "id": "1745ede0",
   "metadata": {},
   "outputs": [
    {
     "name": "stdout",
     "output_type": "stream",
     "text": [
      "Number of times bob occurs is:  8\n"
     ]
    }
   ],
   "source": [
    "count = 0\n",
    "#s = 'azcbobobegghakl'\n",
    "s = 'bobboboobobbboobobobooobboobobvobooobbobbbbobb'\n",
    "for n in range(len(s)):\n",
    "    if n + 2 < len(s):\n",
    "        if s[n] == 'b' and s[n+1] == 'o' and s[n+2] == 'b':\n",
    "            count +=1\n",
    "print('Number of times bob occurs is: ',count)"
   ]
  },
  {
   "cell_type": "markdown",
   "id": "c50436b1",
   "metadata": {},
   "source": [
    "# Problem 3"
   ]
  },
  {
   "cell_type": "markdown",
   "id": "426f5e44",
   "metadata": {},
   "source": [
    "Assume s is a string of lower case characters.\n",
    "\n",
    "Write a program that prints the longest substring of s in which the letters occur in alphabetical order. For example, if s = 'azcbobobegghakl', then your program should print\n",
    "\n",
    "Longest substring in alphabetical order is: beggh\n",
    "\n",
    "\n",
    "In the case of ties, print the first substring. For example, if s = 'abcbcd', then your program should print\n",
    "\n",
    "Longest substring in alphabetical order is: abc"
   ]
  },
  {
   "cell_type": "code",
   "execution_count": 5,
   "id": "08f639b3",
   "metadata": {},
   "outputs": [
    {
     "name": "stdout",
     "output_type": "stream",
     "text": [
      "Longest substring in alphabetical order is: bbboo\n"
     ]
    }
   ],
   "source": [
    "count = 0\n",
    "maxcount = 0\n",
    "result = 0\n",
    "\n",
    "for char in range(len(s) - 1):\n",
    "    if (s[char] <= s[char + 1]):\n",
    "        count += 1\n",
    "        if count > maxcount:\n",
    "            maxcount = count\n",
    "            result = char + 1\n",
    "    else:\n",
    "        count = 0\n",
    "startposition = result - maxcount\n",
    "print('Longest substring in alphabetical order is:', s[startposition:result + 1])\n",
    "           \n",
    "            \n",
    "        \n",
    "         \n"
   ]
  },
  {
   "cell_type": "code",
   "execution_count": null,
   "id": "2762cc87",
   "metadata": {},
   "outputs": [],
   "source": []
  },
  {
   "cell_type": "code",
   "execution_count": null,
   "id": "095f59f2",
   "metadata": {},
   "outputs": [],
   "source": []
  }
 ],
 "metadata": {
  "kernelspec": {
   "display_name": "Python 3",
   "language": "python",
   "name": "python3"
  },
  "language_info": {
   "codemirror_mode": {
    "name": "ipython",
    "version": 3
   },
   "file_extension": ".py",
   "mimetype": "text/x-python",
   "name": "python",
   "nbconvert_exporter": "python",
   "pygments_lexer": "ipython3",
   "version": "3.8.10"
  }
 },
 "nbformat": 4,
 "nbformat_minor": 5
}
