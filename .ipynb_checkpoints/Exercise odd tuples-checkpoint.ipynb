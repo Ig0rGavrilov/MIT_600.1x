{
 "cells": [
  {
   "cell_type": "code",
   "execution_count": 56,
   "id": "8ec93bb7",
   "metadata": {},
   "outputs": [],
   "source": [
    "def oddTuples(aTup):\n",
    "    '''\n",
    "    aTup: a tuple\n",
    "    \n",
    "    returns: tuple, every other element of aTup. \n",
    "    '''\n",
    "    # Your Code Here\n",
    "    nTup = ()\n",
    "    for i in range(len(aTup)):\n",
    "\n",
    "        if i%2 ==0:\n",
    "            nTup += (aTup[i],)\n",
    "            \n",
    "            \n",
    "\n",
    "    print(nTup)\n"
   ]
  },
  {
   "cell_type": "code",
   "execution_count": 57,
   "id": "7cd0ccd6",
   "metadata": {},
   "outputs": [
    {
     "name": "stdout",
     "output_type": "stream",
     "text": [
      "()\n"
     ]
    }
   ],
   "source": [
    "aTup= ()\n",
    "oddTuples(aTup)\n"
   ]
  },
  {
   "cell_type": "code",
   "execution_count": 58,
   "id": "6524614a",
   "metadata": {},
   "outputs": [
    {
     "name": "stdout",
     "output_type": "stream",
     "text": [
      "(2, 3, 3, 1, 7)\n"
     ]
    }
   ],
   "source": [
    "aTup = (2, 3, 3, 10, 3, 16, 1, 3, 7)\n",
    "oddTuples(aTup)"
   ]
  },
  {
   "cell_type": "code",
   "execution_count": null,
   "id": "d94f4ddc",
   "metadata": {},
   "outputs": [],
   "source": [
    "def oddTuples(aTup):\n",
    "    '''\n",
    "    aTup: a tuple\n",
    "\n",
    "    returns: tuple, every other element of aTup. \n",
    "    '''\n",
    "    return aTup[::2]"
   ]
  }
 ],
 "metadata": {
  "kernelspec": {
   "display_name": "Python 3",
   "language": "python",
   "name": "python3"
  },
  "language_info": {
   "codemirror_mode": {
    "name": "ipython",
    "version": 3
   },
   "file_extension": ".py",
   "mimetype": "text/x-python",
   "name": "python",
   "nbconvert_exporter": "python",
   "pygments_lexer": "ipython3",
   "version": "3.8.10"
  }
 },
 "nbformat": 4,
 "nbformat_minor": 5
}
