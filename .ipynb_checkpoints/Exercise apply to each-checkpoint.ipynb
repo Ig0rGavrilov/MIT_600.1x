{
 "cells": [
  {
   "cell_type": "code",
   "execution_count": 9,
   "id": "d7e4a529",
   "metadata": {},
   "outputs": [],
   "source": [
    "def applyToEach(L, f):\n",
    "    for i in range(len(L)):\n",
    "        L[i] = f(L[i])"
   ]
  },
  {
   "cell_type": "code",
   "execution_count": 10,
   "id": "ccd91adb",
   "metadata": {},
   "outputs": [],
   "source": [
    "testList = [1, -4, 8, -9]"
   ]
  },
  {
   "cell_type": "code",
   "execution_count": 14,
   "id": "8dcd14d0",
   "metadata": {},
   "outputs": [],
   "source": [
    "applyToEach(testList,abs)"
   ]
  },
  {
   "cell_type": "code",
   "execution_count": 15,
   "id": "5e603787",
   "metadata": {},
   "outputs": [
    {
     "name": "stdout",
     "output_type": "stream",
     "text": [
      "[1, 4, 8, 9]\n"
     ]
    }
   ],
   "source": [
    "print(testList)"
   ]
  },
  {
   "cell_type": "code",
   "execution_count": 4,
   "id": "1ebe3a70",
   "metadata": {},
   "outputs": [],
   "source": [
    "def timesFive(a):\n",
    "    return a * 5\n",
    "\n",
    "applyToEach(testList, timesFive)"
   ]
  },
  {
   "cell_type": "markdown",
   "id": "97c512fa",
   "metadata": {},
   "source": [
    "## Part 1"
   ]
  },
  {
   "cell_type": "code",
   "execution_count": 5,
   "id": "1c4edb6b",
   "metadata": {},
   "outputs": [
    {
     "name": "stdout",
     "output_type": "stream",
     "text": [
      "[5, -20, 40, -45]\n"
     ]
    }
   ],
   "source": [
    "def absol(a):\n",
    "    return abs(a)\n",
    "applyToEach(testList, absol)"
   ]
  },
  {
   "cell_type": "markdown",
   "id": "4c8a01c1",
   "metadata": {},
   "source": [
    "# Part 2"
   ]
  },
  {
   "cell_type": "code",
   "execution_count": 17,
   "id": "69a0cf45",
   "metadata": {},
   "outputs": [],
   "source": [
    "def plus(a):\n",
    "    return a + 1\n",
    "\n",
    "applyToEach(testList, plus)"
   ]
  },
  {
   "cell_type": "markdown",
   "id": "f429f07e",
   "metadata": {},
   "source": [
    "## Part 3"
   ]
  },
  {
   "cell_type": "code",
   "execution_count": null,
   "id": "ec389581",
   "metadata": {},
   "outputs": [],
   "source": [
    "def squar(a):\n",
    "    return a**2\n",
    "applyToEach(testList, squar)"
   ]
  },
  {
   "cell_type": "code",
   "execution_count": null,
   "id": "fd7aa5d8",
   "metadata": {},
   "outputs": [],
   "source": []
  }
 ],
 "metadata": {
  "kernelspec": {
   "display_name": "Python 3",
   "language": "python",
   "name": "python3"
  },
  "language_info": {
   "codemirror_mode": {
    "name": "ipython",
    "version": 3
   },
   "file_extension": ".py",
   "mimetype": "text/x-python",
   "name": "python",
   "nbconvert_exporter": "python",
   "pygments_lexer": "ipython3",
   "version": "3.8.10"
  }
 },
 "nbformat": 4,
 "nbformat_minor": 5
}
