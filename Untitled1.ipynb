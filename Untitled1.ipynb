{
 "cells": [
  {
   "cell_type": "code",
   "execution_count": 1,
   "id": "7275bd2f",
   "metadata": {},
   "outputs": [],
   "source": [
    "def swapSort(L): \n",
    "    \"\"\" L is a list on integers \"\"\"\n",
    "    print(\"Original L: \", L)\n",
    "    for i in range(len(L)):\n",
    "        for j in range(i+1, len(L)):\n",
    "            if L[j] < L[i]:\n",
    "                # the next line is a short \n",
    "                # form for swap L[i] and L[j]\n",
    "                L[j], L[i] = L[i], L[j] \n",
    "                print(L)\n",
    "    print(\"Final L: \", L)"
   ]
  },
  {
   "cell_type": "code",
   "execution_count": 2,
   "id": "45d0c2f2",
   "metadata": {},
   "outputs": [],
   "source": [
    "L = [1,3,5,7,9,6,7]"
   ]
  },
  {
   "cell_type": "code",
   "execution_count": 3,
   "id": "779228b3",
   "metadata": {},
   "outputs": [
    {
     "name": "stdout",
     "output_type": "stream",
     "text": [
      "Original L:  [1, 3, 5, 7, 9, 6, 7]\n",
      "[1, 3, 5, 6, 9, 7, 7]\n",
      "[1, 3, 5, 6, 7, 9, 7]\n",
      "[1, 3, 5, 6, 7, 7, 9]\n",
      "Final L:  [1, 3, 5, 6, 7, 7, 9]\n"
     ]
    }
   ],
   "source": [
    "swapSort(L)"
   ]
  },
  {
   "cell_type": "code",
   "execution_count": 4,
   "id": "cdd0318a",
   "metadata": {},
   "outputs": [],
   "source": [
    "def modSwapSort(L): \n",
    "    \"\"\" L is a list on integers \"\"\"\n",
    "    print(\"Original L: \", L)\n",
    "    for i in range(len(L)):\n",
    "        for j in range(len(L)):\n",
    "            if L[j] < L[i]:\n",
    "                # the next line is a short \n",
    "                # form for swap L[i] and L[j]\n",
    "                L[j], L[i] = L[i], L[j] \n",
    "                print(L)\n",
    "    print(\"Final L: \", L)"
   ]
  },
  {
   "cell_type": "code",
   "execution_count": 5,
   "id": "ebd70877",
   "metadata": {},
   "outputs": [
    {
     "name": "stdout",
     "output_type": "stream",
     "text": [
      "Original L:  [1, 3, 5, 6, 7, 7, 9]\n",
      "[3, 1, 5, 6, 7, 7, 9]\n",
      "[5, 1, 3, 6, 7, 7, 9]\n",
      "[5, 3, 1, 6, 7, 7, 9]\n",
      "[6, 3, 1, 5, 7, 7, 9]\n",
      "[6, 5, 1, 3, 7, 7, 9]\n",
      "[6, 5, 3, 1, 7, 7, 9]\n",
      "[7, 5, 3, 1, 6, 7, 9]\n",
      "[7, 6, 3, 1, 5, 7, 9]\n",
      "[7, 6, 5, 1, 3, 7, 9]\n",
      "[7, 6, 5, 3, 1, 7, 9]\n",
      "[7, 7, 5, 3, 1, 6, 9]\n",
      "[7, 7, 6, 3, 1, 5, 9]\n",
      "[7, 7, 6, 5, 1, 3, 9]\n",
      "[7, 7, 6, 5, 3, 1, 9]\n",
      "[9, 7, 6, 5, 3, 1, 7]\n",
      "[9, 7, 7, 5, 3, 1, 6]\n",
      "[9, 7, 7, 6, 3, 1, 5]\n",
      "[9, 7, 7, 6, 5, 1, 3]\n",
      "[9, 7, 7, 6, 5, 3, 1]\n",
      "Final L:  [9, 7, 7, 6, 5, 3, 1]\n"
     ]
    }
   ],
   "source": [
    "modSwapSort(L)"
   ]
  },
  {
   "cell_type": "code",
   "execution_count": 6,
   "id": "0f2155e9",
   "metadata": {},
   "outputs": [],
   "source": [
    "a = 20000*(100**2)\n",
    "b = 0.001*(100**5)"
   ]
  },
  {
   "cell_type": "code",
   "execution_count": 7,
   "id": "19a3a43b",
   "metadata": {},
   "outputs": [
    {
     "data": {
      "text/plain": [
       "True"
      ]
     },
     "execution_count": 7,
     "metadata": {},
     "output_type": "execute_result"
    }
   ],
   "source": [
    "a>b"
   ]
  },
  {
   "cell_type": "code",
   "execution_count": 8,
   "id": "166f899f",
   "metadata": {},
   "outputs": [],
   "source": [
    "def search(L, e):\n",
    "    for i in range(len(L)):\n",
    "        if L[i] == e:\n",
    "            return True\n",
    "        if L[i] > e:\n",
    "            return False\n",
    "    return False"
   ]
  },
  {
   "cell_type": "code",
   "execution_count": 9,
   "id": "462046f6",
   "metadata": {},
   "outputs": [
    {
     "data": {
      "text/plain": [
       "False"
      ]
     },
     "execution_count": 9,
     "metadata": {},
     "output_type": "execute_result"
    }
   ],
   "source": [
    "search(L,7)"
   ]
  },
  {
   "cell_type": "code",
   "execution_count": null,
   "id": "100e1774",
   "metadata": {},
   "outputs": [],
   "source": []
  }
 ],
 "metadata": {
  "kernelspec": {
   "display_name": "Python 3",
   "language": "python",
   "name": "python3"
  },
  "language_info": {
   "codemirror_mode": {
    "name": "ipython",
    "version": 3
   },
   "file_extension": ".py",
   "mimetype": "text/x-python",
   "name": "python",
   "nbconvert_exporter": "python",
   "pygments_lexer": "ipython3",
   "version": "3.8.10"
  }
 },
 "nbformat": 4,
 "nbformat_minor": 5
}
