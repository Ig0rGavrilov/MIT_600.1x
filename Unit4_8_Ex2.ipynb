{
 "cells": [
  {
   "cell_type": "code",
   "execution_count": 1,
   "id": "c81338e1",
   "metadata": {},
   "outputs": [],
   "source": [
    "def fancy_divide(numbers,index):\n",
    "    try:\n",
    "        denom = numbers[index]\n",
    "        for i in range(len(numbers)):\n",
    "            numbers[i] /= denom\n",
    "    except IndexError:\n",
    "        print(\"-1\")\n",
    "    else:\n",
    "        print(\"1\")\n",
    "    finally:\n",
    "        print(\"0\")\n",
    "        "
   ]
  },
  {
   "cell_type": "code",
   "execution_count": 2,
   "id": "fb1264f8",
   "metadata": {},
   "outputs": [
    {
     "name": "stdout",
     "output_type": "stream",
     "text": [
      "1\n",
      "0\n"
     ]
    }
   ],
   "source": [
    "fancy_divide([0, 2, 4], 1)"
   ]
  },
  {
   "cell_type": "code",
   "execution_count": 3,
   "id": "d26c633e",
   "metadata": {},
   "outputs": [
    {
     "name": "stdout",
     "output_type": "stream",
     "text": [
      "-1\n",
      "0\n"
     ]
    }
   ],
   "source": [
    "fancy_divide([0, 2, 4], 4)"
   ]
  },
  {
   "cell_type": "code",
   "execution_count": 4,
   "id": "19b92ae2",
   "metadata": {},
   "outputs": [
    {
     "name": "stdout",
     "output_type": "stream",
     "text": [
      "0\n"
     ]
    },
    {
     "ename": "ZeroDivisionError",
     "evalue": "division by zero",
     "output_type": "error",
     "traceback": [
      "\u001b[1;31m---------------------------------------------------------------------------\u001b[0m",
      "\u001b[1;31mZeroDivisionError\u001b[0m                         Traceback (most recent call last)",
      "\u001b[1;32m<ipython-input-4-106d481e0231>\u001b[0m in \u001b[0;36m<module>\u001b[1;34m\u001b[0m\n\u001b[1;32m----> 1\u001b[1;33m \u001b[0mfancy_divide\u001b[0m\u001b[1;33m(\u001b[0m\u001b[1;33m[\u001b[0m\u001b[1;36m0\u001b[0m\u001b[1;33m,\u001b[0m \u001b[1;36m2\u001b[0m\u001b[1;33m,\u001b[0m \u001b[1;36m4\u001b[0m\u001b[1;33m]\u001b[0m\u001b[1;33m,\u001b[0m \u001b[1;36m0\u001b[0m\u001b[1;33m)\u001b[0m\u001b[1;33m\u001b[0m\u001b[1;33m\u001b[0m\u001b[0m\n\u001b[0m",
      "\u001b[1;32m<ipython-input-1-5440426b8104>\u001b[0m in \u001b[0;36mfancy_divide\u001b[1;34m(numbers, index)\u001b[0m\n\u001b[0;32m      3\u001b[0m         \u001b[0mdenom\u001b[0m \u001b[1;33m=\u001b[0m \u001b[0mnumbers\u001b[0m\u001b[1;33m[\u001b[0m\u001b[0mindex\u001b[0m\u001b[1;33m]\u001b[0m\u001b[1;33m\u001b[0m\u001b[1;33m\u001b[0m\u001b[0m\n\u001b[0;32m      4\u001b[0m         \u001b[1;32mfor\u001b[0m \u001b[0mi\u001b[0m \u001b[1;32min\u001b[0m \u001b[0mrange\u001b[0m\u001b[1;33m(\u001b[0m\u001b[0mlen\u001b[0m\u001b[1;33m(\u001b[0m\u001b[0mnumbers\u001b[0m\u001b[1;33m)\u001b[0m\u001b[1;33m)\u001b[0m\u001b[1;33m:\u001b[0m\u001b[1;33m\u001b[0m\u001b[1;33m\u001b[0m\u001b[0m\n\u001b[1;32m----> 5\u001b[1;33m             \u001b[0mnumbers\u001b[0m\u001b[1;33m[\u001b[0m\u001b[0mi\u001b[0m\u001b[1;33m]\u001b[0m \u001b[1;33m/=\u001b[0m \u001b[0mdenom\u001b[0m\u001b[1;33m\u001b[0m\u001b[1;33m\u001b[0m\u001b[0m\n\u001b[0m\u001b[0;32m      6\u001b[0m     \u001b[1;32mexcept\u001b[0m \u001b[0mIndexError\u001b[0m\u001b[1;33m:\u001b[0m\u001b[1;33m\u001b[0m\u001b[1;33m\u001b[0m\u001b[0m\n\u001b[0;32m      7\u001b[0m         \u001b[0mprint\u001b[0m\u001b[1;33m(\u001b[0m\u001b[1;34m\"-1\"\u001b[0m\u001b[1;33m)\u001b[0m\u001b[1;33m\u001b[0m\u001b[1;33m\u001b[0m\u001b[0m\n",
      "\u001b[1;31mZeroDivisionError\u001b[0m: division by zero"
     ]
    }
   ],
   "source": [
    "fancy_divide([0, 2, 4], 0)"
   ]
  },
  {
   "cell_type": "code",
   "execution_count": 5,
   "id": "fd04c59a",
   "metadata": {},
   "outputs": [],
   "source": [
    "def fancy_divide(numbers, index):\n",
    "    try:\n",
    "        denom = numbers[index]\n",
    "        for i in range(len(numbers)):\n",
    "            numbers[i] /= denom\n",
    "    except IndexError:\n",
    "        fancy_divide(numbers, len(numbers) - 1)\n",
    "    except ZeroDivisionError:\n",
    "        print(\"-2\")\n",
    "    else:\n",
    "        print(\"1\")\n",
    "    finally:\n",
    "        print(\"0\")"
   ]
  },
  {
   "cell_type": "code",
   "execution_count": 6,
   "id": "8214e9ff",
   "metadata": {},
   "outputs": [
    {
     "name": "stdout",
     "output_type": "stream",
     "text": [
      "1\n",
      "0\n"
     ]
    }
   ],
   "source": [
    "fancy_divide([0, 2, 4], 1)"
   ]
  },
  {
   "cell_type": "code",
   "execution_count": 7,
   "id": "8c19717e",
   "metadata": {},
   "outputs": [
    {
     "name": "stdout",
     "output_type": "stream",
     "text": [
      "1\n",
      "0\n",
      "0\n"
     ]
    }
   ],
   "source": [
    "fancy_divide([0, 2, 4], 4)"
   ]
  },
  {
   "cell_type": "code",
   "execution_count": 8,
   "id": "bd53a608",
   "metadata": {},
   "outputs": [
    {
     "name": "stdout",
     "output_type": "stream",
     "text": [
      "-2\n",
      "0\n"
     ]
    }
   ],
   "source": [
    "fancy_divide([0, 2, 4], 0)"
   ]
  },
  {
   "cell_type": "code",
   "execution_count": 9,
   "id": "2b8a51e5",
   "metadata": {},
   "outputs": [],
   "source": [
    "def fancy_divide(numbers, index):\n",
    "    try:\n",
    "        try:\n",
    "            denom = numbers[index]\n",
    "            for i in range(len(numbers)):\n",
    "                numbers[i] /= denom\n",
    "        except IndexError:\n",
    "            fancy_divide(numbers, len(numbers) - 1)\n",
    "        else:\n",
    "            print(\"1\")\n",
    "        finally:\n",
    "            print(\"0\")\n",
    "    except ZeroDivisionError:\n",
    "        print(\"-2\")"
   ]
  },
  {
   "cell_type": "code",
   "execution_count": 10,
   "id": "73b603cc",
   "metadata": {},
   "outputs": [
    {
     "name": "stdout",
     "output_type": "stream",
     "text": [
      "1\n",
      "0\n"
     ]
    }
   ],
   "source": [
    "fancy_divide([0, 2, 4], 1)"
   ]
  },
  {
   "cell_type": "code",
   "execution_count": 11,
   "id": "aa4b7eb4",
   "metadata": {},
   "outputs": [
    {
     "name": "stdout",
     "output_type": "stream",
     "text": [
      "1\n",
      "0\n",
      "0\n"
     ]
    }
   ],
   "source": [
    "fancy_divide([0, 2, 4], 4)"
   ]
  },
  {
   "cell_type": "code",
   "execution_count": 12,
   "id": "7fce0aa1",
   "metadata": {},
   "outputs": [
    {
     "name": "stdout",
     "output_type": "stream",
     "text": [
      "0\n",
      "-2\n"
     ]
    }
   ],
   "source": [
    "fancy_divide([0, 2, 4], 0)"
   ]
  },
  {
   "cell_type": "code",
   "execution_count": 13,
   "id": "3f8be18d",
   "metadata": {},
   "outputs": [],
   "source": [
    "def fancy_divide(list_of_numbers, index):\n",
    "    try:\n",
    "        try:\n",
    "            raise Exception(\"0\")\n",
    "        finally:\n",
    "            denom = list_of_numbers[index]\n",
    "            for i in range(len(list_of_numbers)):\n",
    "                list_of_numbers[i] /= denom\n",
    "    except Exception as ex:\n",
    "        print(ex)\n",
    "        "
   ]
  },
  {
   "cell_type": "code",
   "execution_count": 14,
   "id": "07c826a4",
   "metadata": {},
   "outputs": [
    {
     "name": "stdout",
     "output_type": "stream",
     "text": [
      "division by zero\n"
     ]
    }
   ],
   "source": [
    "fancy_divide([0, 2, 4], 0)"
   ]
  },
  {
   "cell_type": "code",
   "execution_count": 15,
   "id": "d08f77ba",
   "metadata": {},
   "outputs": [],
   "source": [
    "def fancy_divide(list_of_numbers, index):\n",
    "    try:\n",
    "        try:\n",
    "            denom = list_of_numbers[index]\n",
    "            for i in range(len(list_of_numbers)):\n",
    "                list_of_numbers[i] /= denom\n",
    "        finally:\n",
    "            raise Exception(\"0\")\n",
    "    except Exception as ex:\n",
    "        print(ex)\n",
    "        "
   ]
  },
  {
   "cell_type": "code",
   "execution_count": 16,
   "id": "7481bcb9",
   "metadata": {},
   "outputs": [
    {
     "name": "stdout",
     "output_type": "stream",
     "text": [
      "0\n"
     ]
    }
   ],
   "source": [
    "fancy_divide([0, 2, 4], 0)"
   ]
  },
  {
   "cell_type": "code",
   "execution_count": null,
   "id": "6bc4d21b",
   "metadata": {},
   "outputs": [],
   "source": []
  }
 ],
 "metadata": {
  "kernelspec": {
   "display_name": "Python 3",
   "language": "python",
   "name": "python3"
  },
  "language_info": {
   "codemirror_mode": {
    "name": "ipython",
    "version": 3
   },
   "file_extension": ".py",
   "mimetype": "text/x-python",
   "name": "python",
   "nbconvert_exporter": "python",
   "pygments_lexer": "ipython3",
   "version": "3.8.10"
  }
 },
 "nbformat": 4,
 "nbformat_minor": 5
}
