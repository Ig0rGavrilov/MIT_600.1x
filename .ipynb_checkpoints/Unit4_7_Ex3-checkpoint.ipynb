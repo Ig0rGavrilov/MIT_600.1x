{
 "cells": [
  {
   "cell_type": "code",
   "execution_count": 1,
   "id": "b41b0a4a",
   "metadata": {},
   "outputs": [],
   "source": [
    "def maxOfThree(a,b,c) :\n",
    "    \"\"\"\n",
    "    a, b, and c are numbers\n",
    "\n",
    "    returns: the maximum of a, b, and c        \n",
    "    \"\"\"\n",
    "    if a > b:\n",
    "        bigger = a\n",
    "\n",
    "    else:\n",
    "        bigger = b\n",
    "\n",
    "    if c > bigger:\n",
    "        bigger = c\n",
    "\n",
    "    return bigger"
   ]
  },
  {
   "cell_type": "code",
   "execution_count": 2,
   "id": "2ae6b218",
   "metadata": {},
   "outputs": [
    {
     "data": {
      "text/plain": [
       "100"
      ]
     },
     "execution_count": 2,
     "metadata": {},
     "output_type": "execute_result"
    }
   ],
   "source": [
    "maxOfThree(2, -10, 100)"
   ]
  },
  {
   "cell_type": "code",
   "execution_count": 3,
   "id": "1507fc66",
   "metadata": {},
   "outputs": [
    {
     "data": {
      "text/plain": [
       "10"
      ]
     },
     "execution_count": 3,
     "metadata": {},
     "output_type": "execute_result"
    }
   ],
   "source": [
    "maxOfThree(7, 9, 10)"
   ]
  },
  {
   "cell_type": "code",
   "execution_count": 4,
   "id": "bcdcdc9d",
   "metadata": {},
   "outputs": [
    {
     "data": {
      "text/plain": [
       "6"
      ]
     },
     "execution_count": 4,
     "metadata": {},
     "output_type": "execute_result"
    }
   ],
   "source": [
    "maxOfThree(6, 1, 5)"
   ]
  },
  {
   "cell_type": "code",
   "execution_count": 5,
   "id": "6729bc5b",
   "metadata": {},
   "outputs": [
    {
     "data": {
      "text/plain": [
       "40"
      ]
     },
     "execution_count": 5,
     "metadata": {},
     "output_type": "execute_result"
    }
   ],
   "source": [
    "maxOfThree(0, 40, 20)"
   ]
  },
  {
   "cell_type": "code",
   "execution_count": null,
   "id": "69f1974f",
   "metadata": {},
   "outputs": [],
   "source": []
  }
 ],
 "metadata": {
  "kernelspec": {
   "display_name": "Python 3",
   "language": "python",
   "name": "python3"
  },
  "language_info": {
   "codemirror_mode": {
    "name": "ipython",
    "version": 3
   },
   "file_extension": ".py",
   "mimetype": "text/x-python",
   "name": "python",
   "nbconvert_exporter": "python",
   "pygments_lexer": "ipython3",
   "version": "3.8.10"
  }
 },
 "nbformat": 4,
 "nbformat_minor": 5
}
