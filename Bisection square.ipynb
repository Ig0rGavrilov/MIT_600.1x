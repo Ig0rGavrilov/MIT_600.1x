{
 "cells": [
  {
   "cell_type": "code",
   "execution_count": 6,
   "id": "93cdf7b6",
   "metadata": {},
   "outputs": [
    {
     "name": "stdout",
     "output_type": "stream",
     "text": [
      "low = 0 high = 25 ans =12.5\n",
      "low = 0 high = 12.5 ans =6.25\n",
      "low = 0 high = 6.25 ans =3.125\n",
      "low = 3.125 high = 6.25 ans =4.6875\n",
      "low = 4.6875 high = 6.25 ans =5.46875\n",
      "low = 4.6875 high = 5.46875 ans =5.078125\n",
      "low = 4.6875 high = 5.078125 ans =4.8828125\n",
      "low = 4.8828125 high = 5.078125 ans =4.98046875\n",
      "low = 4.98046875 high = 5.078125 ans =5.029296875\n",
      "low = 4.98046875 high = 5.029296875 ans =5.0048828125\n",
      "low = 4.98046875 high = 5.0048828125 ans =4.99267578125\n",
      "low = 4.99267578125 high = 5.0048828125 ans =4.998779296875\n",
      "low = 4.998779296875 high = 5.0048828125 ans =5.0018310546875\n",
      "Number Guesses 13\n",
      "5.00030517578125is close to square root of 25\n"
     ]
    }
   ],
   "source": [
    "x = 25\n",
    "epsilon = 0.01\n",
    "numguesses = 0 \n",
    "low = 0\n",
    "high = x\n",
    "ans = (high + low)/2\n",
    "\n",
    "while abs(ans**2-x)>= epsilon:\n",
    "    print('low = ' + str(low) + ' high = ' + str(high) + ' ans =' + str(ans) )\n",
    "    numguesses +=1\n",
    "    if ans**2 < x:\n",
    "        low = ans\n",
    "    else:\n",
    "        high = ans\n",
    "    ans = (high + low)/2\n",
    "print('Number Guesses ' + str(numguesses))\n",
    "print(str(ans) + 'is close to square root of ' + str(x) )"
   ]
  },
  {
   "cell_type": "code",
   "execution_count": 7,
   "id": "02215bcd",
   "metadata": {},
   "outputs": [
    {
     "data": {
      "text/plain": [
       "1"
      ]
     },
     "execution_count": 7,
     "metadata": {},
     "output_type": "execute_result"
    }
   ],
   "source": [
    "4//3\n"
   ]
  },
  {
   "cell_type": "code",
   "execution_count": null,
   "id": "8aea6f04",
   "metadata": {},
   "outputs": [],
   "source": []
  }
 ],
 "metadata": {
  "kernelspec": {
   "display_name": "Python 3",
   "language": "python",
   "name": "python3"
  },
  "language_info": {
   "codemirror_mode": {
    "name": "ipython",
    "version": 3
   },
   "file_extension": ".py",
   "mimetype": "text/x-python",
   "name": "python",
   "nbconvert_exporter": "python",
   "pygments_lexer": "ipython3",
   "version": "3.8.10"
  }
 },
 "nbformat": 4,
 "nbformat_minor": 5
}
