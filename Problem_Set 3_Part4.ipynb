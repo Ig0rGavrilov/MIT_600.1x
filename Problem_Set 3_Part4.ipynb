{
 "cells": [
  {
   "cell_type": "code",
   "execution_count": null,
   "id": "62bdeced",
   "metadata": {},
   "outputs": [],
   "source": [
    "def hangman(secretWord):\n",
    "    '''\n",
    "    secretWord: string, the secret word to guess.\n",
    "    Starts up an interactive game of Hangman.\n",
    "    * At the start of the game, let the user know how many\n",
    "      letters the secretWord contains.\n",
    "    * Ask the user to supply one guess (i.e. letter) per round.\n",
    "    * The user should receive feedback immediately after each guess\n",
    "      about whether their guess appears in the computers word.\n",
    "    * After each round, you should also display to the user the\n",
    "      partially guessed word so far, as well as letters that the\n",
    "      user has not yet guessed.\n",
    "    Follows the other limitations detailed in the problem write-up.\n",
    "    '''\n",
    "    # FILL IN YOUR CODE HERE...\n",
    "    print('Welcome to the game, Hangman!')\n",
    "    print('I am thinking of a word that is', len(secretWord), \"letters long.\")\n",
    "    mistakesMade = 0\n",
    "    lettersGuessed = []\n",
    "\n",
    "    while 8 - mistakesMade > 0:\n",
    "        if isWordGuessed(secretWord, lettersGuessed) == True:\n",
    "            print('------------')\n",
    "            print('Congratulations, you won!')\n",
    "            break\n",
    "        else:\n",
    "            print('------------')\n",
    "            print('You have', 8 - mistakesMade, 'guesses left.')\n",
    "            print('Available letters:', getAvailableLetters(lettersGuessed))\n",
    "            guess = str(input('Please guess a letter:')).lower()\n",
    "            if guess in secretWord and guess not in lettersGuessed:\n",
    "                lettersGuessed.append(guess)\n",
    "                print('Good guess:', getGuessedWord(secretWord, lettersGuessed))\n",
    "            elif guess in lettersGuessed:\n",
    "                print(\"Oops! You've already guessed that letter:\", getGuessedWord(secretWord, lettersGuessed))\n",
    "            elif guess not in secretWord:\n",
    "                print(\"Oops! That letter is not in my word:\", getGuessedWord(secretWord, lettersGuessed))\n",
    "                lettersGuessed.append(guess)\n",
    "                mistakesMade += 1\n",
    "        if 8 - mistakesMade == 0:\n",
    "            print('------------')\n",
    "            print('Sorry, you ran out of guesses. The word was', secretWord)\n",
    "            break\n",
    "        else:\n",
    "            continue"
   ]
  }
 ],
 "metadata": {
  "kernelspec": {
   "display_name": "Python 3",
   "language": "python",
   "name": "python3"
  },
  "language_info": {
   "codemirror_mode": {
    "name": "ipython",
    "version": 3
   },
   "file_extension": ".py",
   "mimetype": "text/x-python",
   "name": "python",
   "nbconvert_exporter": "python",
   "pygments_lexer": "ipython3",
   "version": "3.8.10"
  }
 },
 "nbformat": 4,
 "nbformat_minor": 5
}
