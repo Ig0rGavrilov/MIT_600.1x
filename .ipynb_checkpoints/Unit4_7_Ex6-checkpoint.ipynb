{
 "cells": [
  {
   "cell_type": "code",
   "execution_count": 5,
   "id": "75b3239b",
   "metadata": {},
   "outputs": [],
   "source": [
    "def rem(x, a):\n",
    "    \"\"\"\n",
    "    x: a non-negative integer argument\n",
    "    a: a positive integer argument\n",
    "\n",
    "    returns: integer, the remainder when x is divided by a.\n",
    "    \"\"\"\n",
    "    if x == a:\n",
    "        return 0\n",
    "    elif x < a:\n",
    "        return x\n",
    "    else:\n",
    "        return rem(x-a, a)"
   ]
  },
  {
   "cell_type": "code",
   "execution_count": 6,
   "id": "9937f4cd",
   "metadata": {},
   "outputs": [
    {
     "data": {
      "text/plain": [
       "2"
      ]
     },
     "execution_count": 6,
     "metadata": {},
     "output_type": "execute_result"
    }
   ],
   "source": [
    "rem(2, 5)\n"
   ]
  },
  {
   "cell_type": "code",
   "execution_count": 7,
   "id": "9f6f3106",
   "metadata": {},
   "outputs": [
    {
     "data": {
      "text/plain": [
       "0"
      ]
     },
     "execution_count": 7,
     "metadata": {},
     "output_type": "execute_result"
    }
   ],
   "source": [
    "rem(5, 5)\n"
   ]
  },
  {
   "cell_type": "code",
   "execution_count": 8,
   "id": "3eb0a59f",
   "metadata": {},
   "outputs": [
    {
     "data": {
      "text/plain": [
       "2"
      ]
     },
     "execution_count": 8,
     "metadata": {},
     "output_type": "execute_result"
    }
   ],
   "source": [
    "rem(7, 5)\n"
   ]
  },
  {
   "cell_type": "code",
   "execution_count": null,
   "id": "59825c48",
   "metadata": {},
   "outputs": [],
   "source": []
  }
 ],
 "metadata": {
  "kernelspec": {
   "display_name": "Python 3",
   "language": "python",
   "name": "python3"
  },
  "language_info": {
   "codemirror_mode": {
    "name": "ipython",
    "version": 3
   },
   "file_extension": ".py",
   "mimetype": "text/x-python",
   "name": "python",
   "nbconvert_exporter": "python",
   "pygments_lexer": "ipython3",
   "version": "3.8.10"
  }
 },
 "nbformat": 4,
 "nbformat_minor": 5
}
