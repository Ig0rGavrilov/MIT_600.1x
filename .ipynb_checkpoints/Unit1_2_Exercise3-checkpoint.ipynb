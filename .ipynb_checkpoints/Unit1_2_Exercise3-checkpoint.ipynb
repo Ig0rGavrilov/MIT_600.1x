{
 "cells": [
  {
   "cell_type": "code",
   "execution_count": 1,
   "id": "d5388804",
   "metadata": {},
   "outputs": [],
   "source": [
    "if 6>7:\n",
    "    print(\"yep\")"
   ]
  },
  {
   "cell_type": "code",
   "execution_count": 2,
   "id": "86f232ae",
   "metadata": {},
   "outputs": [
    {
     "name": "stdout",
     "output_type": "stream",
     "text": [
      "Nope\n"
     ]
    }
   ],
   "source": [
    "if 6 > 7:\n",
    "    print(\"Yep\")\n",
    "else:\n",
    "    print(\"Nope\")"
   ]
  },
  {
   "cell_type": "code",
   "execution_count": 3,
   "id": "4e029873",
   "metadata": {},
   "outputs": [
    {
     "name": "stdout",
     "output_type": "stream",
     "text": [
      "Regal!\n"
     ]
    }
   ],
   "source": [
    "var = \"Panda\"\n",
    "if var == \"panda\":\n",
    "    print(\"Cute!\")\n",
    "elif var == \"Panda\":\n",
    "    print(\"Regal!\")\n",
    "else:\n",
    "    print(\"Ugly...\")"
   ]
  },
  {
   "cell_type": "code",
   "execution_count": 4,
   "id": "3a31d6eb",
   "metadata": {},
   "outputs": [
    {
     "name": "stdout",
     "output_type": "stream",
     "text": [
      "Hot\n"
     ]
    }
   ],
   "source": [
    "temp = 120\n",
    "if temp > 85:\n",
    "    print(\"Hot\")\n",
    "elif temp > 100:\n",
    "    print(\"Really hot!\")\n",
    "elif temp > 60:\n",
    "    print(\"Comfortable\")\n",
    "else:\n",
    "    print(\"Cold\")"
   ]
  },
  {
   "cell_type": "code",
   "execution_count": 5,
   "id": "38d29ddf",
   "metadata": {},
   "outputs": [
    {
     "name": "stdout",
     "output_type": "stream",
     "text": [
      "Cold\n"
     ]
    }
   ],
   "source": [
    "temp = 50\n",
    "if temp > 85:\n",
    "    print(\"Hot\")\n",
    "elif temp > 100:\n",
    "    print(\"Really hot!\")\n",
    "elif temp > 60:\n",
    "    print(\"Comfortable\")\n",
    "else:\n",
    "    print(\"Cold\")"
   ]
  },
  {
   "cell_type": "code",
   "execution_count": null,
   "id": "1123b6ad",
   "metadata": {},
   "outputs": [],
   "source": []
  }
 ],
 "metadata": {
  "kernelspec": {
   "display_name": "Python 3",
   "language": "python",
   "name": "python3"
  },
  "language_info": {
   "codemirror_mode": {
    "name": "ipython",
    "version": 3
   },
   "file_extension": ".py",
   "mimetype": "text/x-python",
   "name": "python",
   "nbconvert_exporter": "python",
   "pygments_lexer": "ipython3",
   "version": "3.8.10"
  }
 },
 "nbformat": 4,
 "nbformat_minor": 5
}
