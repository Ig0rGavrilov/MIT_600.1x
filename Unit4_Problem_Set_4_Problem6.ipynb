{
 "cells": [
  {
   "cell_type": "code",
   "execution_count": null,
   "id": "a0abd248",
   "metadata": {},
   "outputs": [],
   "source": [
    "# A game consists of playing multiple hands. We need to implement one final function to complete our word-game program. Write the code\n",
    "# that implements the playGame function. You should remove the code that is currently uncommented in the playGame body. Read through the\n",
    "# specification and make sure you understand what this function accomplishes. For the game, you should use the HAND_SIZE constant to\n",
    "# determine the number of cards in a hand.\n",
    "\n",
    "# Testing: Try out this implementation as if you were playing the game. Try out different values for HAND_SIZE with your program, and be\n",
    "# sure that you can play the wordgame with different hand sizes by modifying only the variable HAND_SIZE.\n",
    "\n",
    " \n",
    "\n",
    "def playGame(wordList):\n",
    "    \"\"\"\n",
    "    Allow the user to play an arbitrary number of hands.\n",
    " \n",
    "    1) Asks the user to input 'n' or 'r' or 'e'.\n",
    "      * If the user inputs 'n', let the user play a new (random) hand.\n",
    "      * If the user inputs 'r', let the user play the last hand again.\n",
    "      * If the user inputs 'e', exit the game.\n",
    "      * If the user inputs anything else, tell them their input was invalid.\n",
    " \n",
    "    2) When done playing the hand, repeat from step 1\n",
    "    \"\"\"\n",
    "    # TO DO ... <-- Remove this comment when you code this function\n",
    "    while True:\n",
    "        user_input = str(input('Enter n to deal a new hand, r to replay the last hand, or e to end game: '))\n",
    "        if user_input == 'e':\n",
    "            break\n",
    "        elif user_input == 'n':\n",
    "            hand = dealHand(HAND_SIZE)\n",
    "            playHand(hand, wordList, HAND_SIZE)\n",
    "        elif user_input == 'r':\n",
    "            try:\n",
    "                playHand(hand, wordList, HAND_SIZE)\n",
    "            except:\n",
    "              print('You have not played a hand yet. Please play a new hand first!')                           \n",
    "        else:\n",
    "            print('Invalid command.')    \n",
    "\n",
    "# Correct"
   ]
  }
 ],
 "metadata": {
  "kernelspec": {
   "display_name": "Python 3",
   "language": "python",
   "name": "python3"
  },
  "language_info": {
   "codemirror_mode": {
    "name": "ipython",
    "version": 3
   },
   "file_extension": ".py",
   "mimetype": "text/x-python",
   "name": "python",
   "nbconvert_exporter": "python",
   "pygments_lexer": "ipython3",
   "version": "3.8.10"
  }
 },
 "nbformat": 4,
 "nbformat_minor": 5
}
