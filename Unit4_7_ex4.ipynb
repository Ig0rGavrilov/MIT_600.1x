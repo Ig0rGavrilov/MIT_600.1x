{
 "cells": [
  {
   "cell_type": "code",
   "execution_count": 2,
   "id": "d5d3c4e2",
   "metadata": {},
   "outputs": [],
   "source": [
    "def union(set1, set2):\n",
    "   \"\"\"\n",
    "   set1 and set2 are collections of objects, each of which might be empty.\n",
    "   Each set has no duplicates within itself, but there may be objects that\n",
    "   are in both sets. Objects are assumed to be of the same type.\n",
    "\n",
    "   This function returns one set containing all elements from\n",
    "   both input sets, but with no duplicates.\n",
    "   \"\"\"\n",
    "   if len(set1) == 0:\n",
    "    return set2\n",
    "   elif set1[0] in set2:\n",
    "    return union(set1[1:], set2)\n",
    "   else:\n",
    "    return set1[0] + union(set1[1:], set2)"
   ]
  },
  {
   "cell_type": "code",
   "execution_count": 3,
   "id": "8741e25a",
   "metadata": {},
   "outputs": [
    {
     "data": {
      "text/plain": [
       "''"
      ]
     },
     "execution_count": 3,
     "metadata": {},
     "output_type": "execute_result"
    }
   ],
   "source": [
    "union('','')"
   ]
  },
  {
   "cell_type": "code",
   "execution_count": null,
   "id": "941252a9",
   "metadata": {},
   "outputs": [],
   "source": []
  }
 ],
 "metadata": {
  "kernelspec": {
   "display_name": "Python 3",
   "language": "python",
   "name": "python3"
  },
  "language_info": {
   "codemirror_mode": {
    "name": "ipython",
    "version": 3
   },
   "file_extension": ".py",
   "mimetype": "text/x-python",
   "name": "python",
   "nbconvert_exporter": "python",
   "pygments_lexer": "ipython3",
   "version": "3.8.10"
  }
 },
 "nbformat": 4,
 "nbformat_minor": 5
}
