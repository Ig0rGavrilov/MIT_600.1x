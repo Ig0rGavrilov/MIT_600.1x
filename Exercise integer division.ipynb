{
 "cells": [
  {
   "cell_type": "code",
   "execution_count": 13,
   "id": "cf300b12",
   "metadata": {},
   "outputs": [],
   "source": [
    "def integerDivision(x, a):\n",
    "    \"\"\"\n",
    "    x: a non-negative integer argument\n",
    "    a: a positive integer argument\n",
    "\n",
    "    returns: integer, the integer division of x divided by a.\n",
    "    \"\"\"\n",
    "    count = 0\n",
    "    while x >= a:\n",
    "        count += 1\n",
    "        x = x - a\n",
    "    return count"
   ]
  },
  {
   "cell_type": "code",
   "execution_count": 14,
   "id": "89b86dd5",
   "metadata": {},
   "outputs": [
    {
     "name": "stdout",
     "output_type": "stream",
     "text": [
      "1\n"
     ]
    }
   ],
   "source": [
    "print(integerDivision(5, 3))"
   ]
  },
  {
   "cell_type": "code",
   "execution_count": null,
   "id": "eb80abd7",
   "metadata": {},
   "outputs": [],
   "source": []
  }
 ],
 "metadata": {
  "kernelspec": {
   "display_name": "Python 3",
   "language": "python",
   "name": "python3"
  },
  "language_info": {
   "codemirror_mode": {
    "name": "ipython",
    "version": 3
   },
   "file_extension": ".py",
   "mimetype": "text/x-python",
   "name": "python",
   "nbconvert_exporter": "python",
   "pygments_lexer": "ipython3",
   "version": "3.8.10"
  }
 },
 "nbformat": 4,
 "nbformat_minor": 5
}
