{
 "cells": [
  {
   "cell_type": "markdown",
   "id": "c1000395",
   "metadata": {},
   "source": [
    "# Paying Debt off in a Year"
   ]
  },
  {
   "cell_type": "code",
   "execution_count": 19,
   "id": "fb94f394",
   "metadata": {},
   "outputs": [
    {
     "name": "stdout",
     "output_type": "stream",
     "text": [
      "Remaining balance: 4666.25\n"
     ]
    }
   ],
   "source": [
    "\n",
    "\"\"\"\n",
    "Monthly interest rate= (Annual interest rate) / 12.0\n",
    "Minimum monthly payment = (Minimum monthly payment rate) x (Previous balance)\n",
    "Monthly unpaid balance = (Previous balance) - (Minimum monthly payment)\n",
    "Updated balance each month = (Monthly unpaid balance) + (Monthly interest rate x Monthly unpaid balance)\n",
    "\"\"\"\n",
    "\n",
    "\n",
    "balance = 5000\n",
    "annualInterestRate = 0.18\n",
    "monthlyPaymentRate = 0.02\n",
    "month = 0\n",
    "\n",
    "MIR = annualInterestRate/12.0\n",
    "MMP = 0\n",
    "MUP = 0\n",
    "UB = 0\n",
    "\n",
    "while month <=12:\n",
    "    MMP = balance * monthlyPaymentRate\n",
    "    MUP = balance - MMP\n",
    "    Interest = MUP*MIR\n",
    "    balance = MUP + Interest\n",
    "   \n",
    "    month +=1\n",
    "    \n",
    "\n",
    "print('Remaining balance:', round(balance, 2))"
   ]
  },
  {
   "cell_type": "code",
   "execution_count": null,
   "id": "a438eeb9",
   "metadata": {},
   "outputs": [],
   "source": []
  },
  {
   "cell_type": "markdown",
   "id": "deac386e",
   "metadata": {},
   "source": [
    "# Problem 2"
   ]
  },
  {
   "cell_type": "markdown",
   "id": "00ab733e",
   "metadata": {},
   "source": [
    "Now write a program that calculates the minimum fixed monthly payment needed in order pay off a credit card balance within 12 months. By a fixed monthly payment, we mean a single number which does not change each month, but instead is a constant amount that will be paid each month.\n",
    "\n",
    "In this problem, we will not be dealing with a minimum monthly payment rate.\n",
    "\n",
    "The following variables contain values as described below:\n",
    "\n",
    "balance - the outstanding balance on the credit card\n",
    "\n",
    "annualInterestRate - annual interest rate as a decimal\n",
    "\n",
    "The program should print out one line: the lowest monthly payment that will pay off all debt in under 1 year, for example:\n",
    "\n",
    "Lowest Payment: 180 \n",
    "Assume that the interest is compounded monthly according to the balance at the end of the month (after the payment for that month is made). The monthly payment must be a multiple of $10 and is the same for all months. Notice that it is possible for the balance to become negative using this payment scheme, which is okay. A summary of the required math is found below:"
   ]
  },
  {
   "cell_type": "code",
   "execution_count": 26,
   "id": "7765d22c",
   "metadata": {},
   "outputs": [
    {
     "name": "stdout",
     "output_type": "stream",
     "text": [
      "Remaining balance: 390\n"
     ]
    }
   ],
   "source": [
    "\"\"\"Monthly interest rate= (Annual interest rate) / 12.0\n",
    "Minimum monthly payment = (Minimum monthly payment rate) x (Previous balance)\n",
    "Monthly unpaid balance = (Previous balance) - (Minimum monthly payment)\n",
    "Updated balance each month = (Monthly unpaid balance) + (Monthly interest rate x Monthly unpaid balance)\n",
    "\"\"\"\n",
    "\n",
    "balance = 5000\n",
    "annualInterestRate = 0.18\n",
    "monthlyPaymentRate = 0.02\n",
    "month = 0\n",
    "\n",
    "MIR = annualInterestRate/12.0\n",
    "UB = 0 #Unpaid Balance\n",
    "Fixed = 0\n",
    "while balance >= 0:\n",
    "\n",
    "    MUP = balance - Fixed\n",
    "    Interest = MUP*MIR\n",
    "    balance = MUP + Interest\n",
    "    Fixed +=10   \n",
    "    month +=1\n",
    "    \n",
    "\n",
    "print('Remaining balance:', Fixed)"
   ]
  },
  {
   "cell_type": "markdown",
   "id": "6401a791",
   "metadata": {},
   "source": [
    "\n",
    "# Problem 3\n"
   ]
  },
  {
   "cell_type": "markdown",
   "id": "8211e720",
   "metadata": {},
   "source": [
    "You'll notice that in Problem 2, your monthly payment had to be a multiple of 10. Why did we make it that way? You can try running your code locally so that the payment can be any dollar and cent amount (in other words, the monthly payment is a multiple of $0.01). Does your code still work? It should, but you may notice that your code runs more slowly, especially in cases with very large balances and interest rates. (Note: when your code is running on our servers, there are limits on the amount of computing time each submission is allowed, so your observations from running this experiment on the grading system might be limited to an error message complaining about too much time taken.)\n",
    "\n",
    "Well then, how can we calculate a more accurate fixed monthly payment than we did in Problem 2 without running into the problem of slow code? We can make this program run faster using a technique introduced in lecture - bisection search!"
   ]
  },
  {
   "cell_type": "markdown",
   "id": "330c0944",
   "metadata": {},
   "source": [
    "To recap the problem: we are searching for the smallest monthly payment such that we can pay off the entire balance within a year. What is a reasonable lower bound for this payment value? $0 is the obvious answer, but you can do better than that. If there was no interest, the debt can be paid off by monthly payments of one-twelfth of the original balance, so we must pay at least this much every month. One-twelfth of the original balance is a good lower bound."
   ]
  },
  {
   "cell_type": "markdown",
   "id": "d1dccaa7",
   "metadata": {},
   "source": [
    "Monthly interest rate = (Annual interest rate) / 12.0\n",
    "Monthly payment lower bound = Balance / 12\n",
    "Monthly payment upper bound = (Balance x (1 + Monthly interest rate)12) / 12.0"
   ]
  },
  {
   "cell_type": "code",
   "execution_count": 29,
   "id": "e3952bea",
   "metadata": {},
   "outputs": [],
   "source": [
    "def lowest_payment_bisection(balance, annualInterestRate):\n",
    "    lowest_emi = balance/12\n",
    "    highest_emi = balance*((1+annualInterestRate/12)**12)/12\n",
    "    starting_balance = balance\n",
    "\n",
    "    emi = lowest_emi\n",
    "    limit = 0.1\n",
    "\n",
    "    while balance>limit:\n",
    "        emi += 0.01\n",
    "        balance = starting_balance\n",
    "        if emi > lowest_emi and emi < highest_emi:\n",
    "               for i in range(12):\n",
    "                balance = (balance - emi)*(1+annualInterestRate/12)\n",
    "    \n",
    "        else:\n",
    "            print('EMI not in range')\n",
    "            break\n",
    "\n",
    "\n",
    "    return format(emi,'.2f')"
   ]
  },
  {
   "cell_type": "code",
   "execution_count": 30,
   "id": "4f506e12",
   "metadata": {},
   "outputs": [
    {
     "data": {
      "text/plain": [
       "'3000.06'"
      ]
     },
     "execution_count": 30,
     "metadata": {},
     "output_type": "execute_result"
    }
   ],
   "source": [
    "lowest_payment_bisection(5000,18)"
   ]
  },
  {
   "cell_type": "code",
   "execution_count": null,
   "id": "b046dd9a",
   "metadata": {},
   "outputs": [],
   "source": []
  }
 ],
 "metadata": {
  "kernelspec": {
   "display_name": "Python 3",
   "language": "python",
   "name": "python3"
  },
  "language_info": {
   "codemirror_mode": {
    "name": "ipython",
    "version": 3
   },
   "file_extension": ".py",
   "mimetype": "text/x-python",
   "name": "python",
   "nbconvert_exporter": "python",
   "pygments_lexer": "ipython3",
   "version": "3.8.10"
  }
 },
 "nbformat": 4,
 "nbformat_minor": 5
}
