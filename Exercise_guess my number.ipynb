{
 "cells": [
  {
   "cell_type": "code",
   "execution_count": 10,
   "id": "b473af47",
   "metadata": {},
   "outputs": [
    {
     "name": "stdout",
     "output_type": "stream",
     "text": [
      "Please think of a number between 0 and 100!\n",
      "Is your secret number 50?\n",
      "Enter 'h' to indicate the guess is too high. Enter 'l' to indicate the guess is too low. Enter 'c' to indicate I guessed correctly.c\n",
      "Game over. Your secret number was:  50\n"
     ]
    }
   ],
   "source": [
    "print('Please think of a number between 0 and 100!')\n",
    "\n",
    "low = 0\n",
    "high = 100\n",
    "ans = (high+low)/2.0\n",
    "flag = 0\n",
    "\n",
    "while flag != 'c' :\n",
    "    print('Is your secret number ' + str(int(ans)) + '?')\n",
    "    \n",
    "    flag = input('Enter \\'h\\' to indicate the guess is too high. Enter \\'l\\' to indicate the guess is too low. Enter \\'c\\' to indicate I guessed correctly.')\n",
    "    \n",
    "    if flag == 'h':\n",
    "        high = ans\n",
    "        \n",
    "    elif flag == 'l':\n",
    "        low = ans\n",
    "    elif flag == 'c':\n",
    "        print('Game over. Your secret number was: ', int(ans))\n",
    "    else:\n",
    "        print('Sorry, I did not understand your input.')\n",
    "        continue\n",
    "\n",
    "        \n",
    "    ans = int((high + low)//2)\n",
    "\n"
   ]
  },
  {
   "cell_type": "code",
   "execution_count": null,
   "id": "60877cce",
   "metadata": {},
   "outputs": [],
   "source": []
  }
 ],
 "metadata": {
  "kernelspec": {
   "display_name": "Python 3",
   "language": "python",
   "name": "python3"
  },
  "language_info": {
   "codemirror_mode": {
    "name": "ipython",
    "version": 3
   },
   "file_extension": ".py",
   "mimetype": "text/x-python",
   "name": "python",
   "nbconvert_exporter": "python",
   "pygments_lexer": "ipython3",
   "version": "3.8.10"
  }
 },
 "nbformat": 4,
 "nbformat_minor": 5
}
