{
 "cells": [
  {
   "cell_type": "code",
   "execution_count": 9,
   "id": "e986c754",
   "metadata": {},
   "outputs": [],
   "source": [
    "def fancy_divide(list_of_numbers, index):\n",
    "   denom = list_of_numbers[index]\n",
    "   return [simple_divide(item, denom) for item in list_of_numbers]\n",
    "\n",
    "\n",
    "def simple_divide(item, denom):\n",
    "    try:\n",
    "        return item / denom\n",
    "    except ZeroDivisionError:\n",
    "        return 0\n",
    "     "
   ]
  },
  {
   "cell_type": "code",
   "execution_count": 10,
   "id": "9b5fc7ff",
   "metadata": {},
   "outputs": [
    {
     "data": {
      "text/plain": [
       "[0, 0, 0]"
      ]
     },
     "execution_count": 10,
     "metadata": {},
     "output_type": "execute_result"
    }
   ],
   "source": [
    "fancy_divide([0, 2, 4], 0)"
   ]
  },
  {
   "cell_type": "code",
   "execution_count": null,
   "id": "a6f1555b",
   "metadata": {},
   "outputs": [],
   "source": []
  }
 ],
 "metadata": {
  "kernelspec": {
   "display_name": "Python 3",
   "language": "python",
   "name": "python3"
  },
  "language_info": {
   "codemirror_mode": {
    "name": "ipython",
    "version": 3
   },
   "file_extension": ".py",
   "mimetype": "text/x-python",
   "name": "python",
   "nbconvert_exporter": "python",
   "pygments_lexer": "ipython3",
   "version": "3.8.10"
  }
 },
 "nbformat": 4,
 "nbformat_minor": 5
}
