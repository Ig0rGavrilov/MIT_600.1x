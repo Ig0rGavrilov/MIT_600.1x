{
 "cells": [
  {
   "cell_type": "code",
   "execution_count": 5,
   "id": "a5fe0306",
   "metadata": {},
   "outputs": [],
   "source": [
    "def f(n):\n",
    "   \"\"\"\n",
    "   n: integer, n >= 0.\n",
    "   \"\"\"\n",
    "   if n == 0:\n",
    "      return 1\n",
    "   else:\n",
    "      return n * f(n-1)"
   ]
  },
  {
   "cell_type": "code",
   "execution_count": 6,
   "id": "43bef141",
   "metadata": {},
   "outputs": [
    {
     "data": {
      "text/plain": [
       "120"
      ]
     },
     "execution_count": 6,
     "metadata": {},
     "output_type": "execute_result"
    }
   ],
   "source": [
    "f(5)"
   ]
  },
  {
   "cell_type": "code",
   "execution_count": null,
   "id": "1a5c95f9",
   "metadata": {},
   "outputs": [],
   "source": []
  }
 ],
 "metadata": {
  "kernelspec": {
   "display_name": "Python 3",
   "language": "python",
   "name": "python3"
  },
  "language_info": {
   "codemirror_mode": {
    "name": "ipython",
    "version": 3
   },
   "file_extension": ".py",
   "mimetype": "text/x-python",
   "name": "python",
   "nbconvert_exporter": "python",
   "pygments_lexer": "ipython3",
   "version": "3.8.10"
  }
 },
 "nbformat": 4,
 "nbformat_minor": 5
}
