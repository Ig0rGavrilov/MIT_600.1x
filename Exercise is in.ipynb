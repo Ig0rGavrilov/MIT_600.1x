{
 "cells": [
  {
   "cell_type": "code",
   "execution_count": 14,
   "id": "f251acf9",
   "metadata": {},
   "outputs": [],
   "source": [
    "def isIn(char, aStr):\n",
    "    if not aStr:\n",
    "        return False\n",
    "    mid = len(aStr) // 2\n",
    "    if char == aStr[mid]:\n",
    "        return True\n",
    "    elif char > aStr[mid]:\n",
    "        return isIn(char, aStr[mid+1:])\n",
    "    return isIn(char, aStr[:mid])"
   ]
  },
  {
   "cell_type": "code",
   "execution_count": 15,
   "id": "91de5adf",
   "metadata": {},
   "outputs": [
    {
     "data": {
      "text/plain": [
       "False"
      ]
     },
     "execution_count": 15,
     "metadata": {},
     "output_type": "execute_result"
    }
   ],
   "source": [
    "isIn('a', 'joa')"
   ]
  },
  {
   "cell_type": "code",
   "execution_count": null,
   "id": "ad862b4f",
   "metadata": {},
   "outputs": [],
   "source": []
  },
  {
   "cell_type": "code",
   "execution_count": null,
   "id": "9c016822",
   "metadata": {},
   "outputs": [],
   "source": []
  }
 ],
 "metadata": {
  "kernelspec": {
   "display_name": "Python 3",
   "language": "python",
   "name": "python3"
  },
  "language_info": {
   "codemirror_mode": {
    "name": "ipython",
    "version": 3
   },
   "file_extension": ".py",
   "mimetype": "text/x-python",
   "name": "python",
   "nbconvert_exporter": "python",
   "pygments_lexer": "ipython3",
   "version": "3.8.10"
  }
 },
 "nbformat": 4,
 "nbformat_minor": 5
}
