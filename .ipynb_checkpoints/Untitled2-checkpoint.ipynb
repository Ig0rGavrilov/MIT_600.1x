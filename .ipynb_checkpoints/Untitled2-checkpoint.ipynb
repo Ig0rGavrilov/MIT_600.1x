{
 "cells": [
  {
   "cell_type": "markdown",
   "id": "56e365b5",
   "metadata": {},
   "source": [
    "Now write a program that calculates the minimum fixed monthly payment needed in order pay off a credit card balance within 12 months. By a fixed monthly payment, we mean a single number which does not change each month, but instead is a constant amount that will be paid each month.\n",
    "\n",
    "In this problem, we will not be dealing with a minimum monthly payment rate.\n",
    "\n",
    "The following variables contain values as described below:\n",
    "\n",
    "balance - the outstanding balance on the credit card\n",
    "\n",
    "annualInterestRate - annual interest rate as a decimal\n",
    "\n",
    "The program should print out one line: the lowest monthly payment that will pay off all debt in under 1 year, for example:"
   ]
  },
  {
   "cell_type": "code",
   "execution_count": 8,
   "id": "2e3b4517",
   "metadata": {},
   "outputs": [
    {
     "name": "stdout",
     "output_type": "stream",
     "text": [
      "3384.483333333333\n",
      "3440.8913888888887\n",
      "3498.2395787037035\n",
      "3556.5435716820984\n",
      "3615.8192978768\n",
      "3676.0829528414133\n",
      "3737.3510020554368\n",
      "3799.6401854230276\n",
      "3862.9675218467446\n",
      "3927.3503138775236\n",
      "3992.806152442149\n",
      "4059.352921649518\n"
     ]
    }
   ],
   "source": [
    "balance = 3329\n",
    "annualInterestRate = 0.2\n",
    "#monthlyPaymentRate = 0.04\n",
    "\n",
    "\n",
    "monthlyInterestRate = annualInterestRate/12.0\n",
    "#MonthlyUnpaidBalance = balance - MinimumFixed\n",
    "\n",
    "MinimumFixed = 0\n",
    "\n",
    "for i in range(12):\n",
    "    #while balane !=0:                \n",
    "    \n",
    "    MonthlyUnpaidBalance = balance - MinimumFixed\n",
    "    balance = MonthlyUnpaidBalance + monthlyInterestRate*MonthlyUnpaidBalance\n",
    "    #MinimumFixed+=0.01\n",
    "    \n",
    "    print(balance)"
   ]
  },
  {
   "cell_type": "code",
   "execution_count": 21,
   "id": "196b0cdc",
   "metadata": {},
   "outputs": [
    {
     "ename": "KeyboardInterrupt",
     "evalue": "",
     "output_type": "error",
     "traceback": [
      "\u001b[1;31m---------------------------------------------------------------------------\u001b[0m",
      "\u001b[1;31mKeyboardInterrupt\u001b[0m                         Traceback (most recent call last)",
      "\u001b[1;32m<ipython-input-21-9c5ebcc27239>\u001b[0m in \u001b[0;36m<module>\u001b[1;34m\u001b[0m\n\u001b[0;32m     29\u001b[0m         \u001b[0mstartPay\u001b[0m \u001b[1;33m=\u001b[0m \u001b[0mincreaseStartPay\u001b[0m\u001b[1;33m(\u001b[0m\u001b[0mstartPay\u001b[0m\u001b[1;33m)\u001b[0m\u001b[1;33m\u001b[0m\u001b[1;33m\u001b[0m\u001b[0m\n\u001b[0;32m     30\u001b[0m     \u001b[1;32melse\u001b[0m\u001b[1;33m:\u001b[0m\u001b[1;33m\u001b[0m\u001b[1;33m\u001b[0m\u001b[0m\n\u001b[1;32m---> 31\u001b[1;33m         \u001b[0mstartPay\u001b[0m \u001b[1;33m=\u001b[0m \u001b[0mdecreaseStartPay\u001b[0m\u001b[1;33m(\u001b[0m\u001b[0mstartPay\u001b[0m\u001b[1;33m)\u001b[0m\u001b[1;33m\u001b[0m\u001b[1;33m\u001b[0m\u001b[0m\n\u001b[0m\u001b[0;32m     32\u001b[0m \u001b[0mmcount\u001b[0m\u001b[1;33m=\u001b[0m\u001b[1;36m0\u001b[0m\u001b[1;33m\u001b[0m\u001b[1;33m\u001b[0m\u001b[0m\n\u001b[0;32m     33\u001b[0m \u001b[1;33m\u001b[0m\u001b[0m\n",
      "\u001b[1;31mKeyboardInterrupt\u001b[0m: "
     ]
    }
   ],
   "source": [
    "lcount=0 \n",
    "startPay=200 #310 \n",
    "delStartPay=.1 \n",
    "endBalLimit=1 \n",
    "mcount=0 \n",
    "currentBalance=balance \n",
    "monthlyInterestRate=annualInterestRate/12 \n",
    "\n",
    "def MI(currentBalance): \n",
    "    monthlyInterest=round(currentBalance*monthlyInterestRate,2) \n",
    "    print(\"old balance in MI: \"+str(currentBalance)) \n",
    "    print(\"month interest in MI: \"+str(monthlyInterest)) \n",
    "    return monthlyInterest\n",
    "\n",
    "def updatePrinciple(currentBalance): \n",
    "    print(\"Old balance in uP: \"+str(currentBalance)) \n",
    "    currentBalance=currentBalance+MI(currentBalance) \n",
    "    print(\"new current balance in uP: \"+str(currentBalance)) \n",
    "    return currentBalance \n",
    "\n",
    "def increaseStartPay(startPay): \n",
    "    return startPay+delStartPay\n",
    "\n",
    "def decreaseStartPay(startPay): \n",
    "    return startPay-delStartPay\n",
    "\n",
    "while (True): \n",
    "    if(mcount<13 and abs(currentBalance)<12): \n",
    "        startPay = increaseStartPay(startPay) \n",
    "    else: \n",
    "        startPay = decreaseStartPay(startPay)\n",
    "mcount=0\n",
    "\n",
    "while (True):  \n",
    "    mcount+=1   \n",
    "    currentBalance=updatePrinciple(currentBalance)   \n",
    "    currentBalance=currentBalance-startPay\n",
    "    if(currentBalance<0):\n",
    "        break\n",
    "print (\"Lowest Payment: \"+str(startPay))"
   ]
  },
  {
   "cell_type": "code",
   "execution_count": null,
   "id": "0b044d30",
   "metadata": {},
   "outputs": [],
   "source": []
  }
 ],
 "metadata": {
  "kernelspec": {
   "display_name": "Python 3",
   "language": "python",
   "name": "python3"
  },
  "language_info": {
   "codemirror_mode": {
    "name": "ipython",
    "version": 3
   },
   "file_extension": ".py",
   "mimetype": "text/x-python",
   "name": "python",
   "nbconvert_exporter": "python",
   "pygments_lexer": "ipython3",
   "version": "3.8.10"
  }
 },
 "nbformat": 4,
 "nbformat_minor": 5
}
