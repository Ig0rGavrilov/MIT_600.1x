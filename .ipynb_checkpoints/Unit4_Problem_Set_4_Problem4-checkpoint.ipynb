{
 "cells": [
  {
   "cell_type": "code",
   "execution_count": null,
   "id": "df662d52",
   "metadata": {},
   "outputs": [],
   "source": [
    "# Problem 4 - Hand Length\n",
    "# 10/10 points (graded)\n",
    "# We are now ready to begin writing the code that interacts with the player. We'll be implementing the playHand function. This function\n",
    "# allows the user to play out a single hand. First, though, you'll need to implement the helper calculateHandlen function, which can be\n",
    "# done in under five lines of code.\n",
    "\n",
    " \n",
    "def calculateHandlen(hand):\n",
    "    \"\"\" \n",
    "    Returns the length (number of letters) in the current hand.\n",
    "    \n",
    "    hand: dictionary (string int)\n",
    "    returns: integer\n",
    "    \"\"\"\n",
    "    # TO DO... <-- Remove this comment when you code this function\n",
    "    sum = 0\n",
    "    for value in hand.values():\n",
    "        sum += value\n",
    "    return sum\n",
    "\n",
    "# Correct"
   ]
  }
 ],
 "metadata": {
  "kernelspec": {
   "display_name": "Python 3",
   "language": "python",
   "name": "python3"
  },
  "language_info": {
   "codemirror_mode": {
    "name": "ipython",
    "version": 3
   },
   "file_extension": ".py",
   "mimetype": "text/x-python",
   "name": "python",
   "nbconvert_exporter": "python",
   "pygments_lexer": "ipython3",
   "version": "3.8.10"
  }
 },
 "nbformat": 4,
 "nbformat_minor": 5
}
