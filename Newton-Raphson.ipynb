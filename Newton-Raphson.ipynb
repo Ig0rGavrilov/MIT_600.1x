{
 "cells": [
  {
   "cell_type": "code",
   "execution_count": 8,
   "id": "4952e28a",
   "metadata": {},
   "outputs": [
    {
     "name": "stdout",
     "output_type": "stream",
     "text": [
      "numGuesses = 5\n",
      "Square root of 54 is about 7.348469483546109\n"
     ]
    }
   ],
   "source": [
    "epsilon = 0.01\n",
    "y = 54\n",
    "guess  = y / 2.0\n",
    "numGuesses = 0\n",
    "\n",
    "while abs(guess*guess - y) >=epsilon:\n",
    "    numGuesses +=1\n",
    "    guess = guess - (((guess**2) - y)/(2*guess))\n",
    "\n",
    "print('numGuesses = ' + str(numGuesses))\n",
    "print('Square root of ' + str(y) + ' is about ' + str(guess))"
   ]
  },
  {
   "cell_type": "code",
   "execution_count": null,
   "id": "dbca66e9",
   "metadata": {},
   "outputs": [],
   "source": []
  }
 ],
 "metadata": {
  "kernelspec": {
   "display_name": "Python 3",
   "language": "python",
   "name": "python3"
  },
  "language_info": {
   "codemirror_mode": {
    "name": "ipython",
    "version": 3
   },
   "file_extension": ".py",
   "mimetype": "text/x-python",
   "name": "python",
   "nbconvert_exporter": "python",
   "pygments_lexer": "ipython3",
   "version": "3.8.10"
  }
 },
 "nbformat": 4,
 "nbformat_minor": 5
}
