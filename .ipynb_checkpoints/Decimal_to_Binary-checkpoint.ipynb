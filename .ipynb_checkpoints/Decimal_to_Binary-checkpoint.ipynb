{
 "cells": [
  {
   "cell_type": "code",
   "execution_count": 6,
   "id": "f87544aa",
   "metadata": {},
   "outputs": [
    {
     "name": "stdout",
     "output_type": "stream",
     "text": [
      "1\n",
      "9\n",
      "11\n",
      "4\n",
      "011\n",
      "2\n",
      "0011\n",
      "1\n",
      "10011\n",
      "0\n",
      "10011\n"
     ]
    }
   ],
   "source": [
    "num = 19\n",
    "\n",
    "if num <0:\n",
    "    isNeg = True\n",
    "    num = abs(num)\n",
    "else: \n",
    "    isNeg = False\n",
    "result = ''\n",
    "\n",
    "if num == 0:\n",
    "    result = '0'\n",
    "\n",
    "while num >0:\n",
    "    result =str(num%2) + result  #string\n",
    "    print(result)\n",
    "    num = num //2\n",
    "    print(num)\n",
    "if isNeg:\n",
    "    result = '-' + result\n",
    "    \n",
    "print(result)"
   ]
  },
  {
   "cell_type": "code",
   "execution_count": 4,
   "id": "6fff9407",
   "metadata": {},
   "outputs": [
    {
     "data": {
      "text/plain": [
       "1"
      ]
     },
     "execution_count": 4,
     "metadata": {},
     "output_type": "execute_result"
    }
   ],
   "source": [
    "19%2"
   ]
  },
  {
   "cell_type": "code",
   "execution_count": 5,
   "id": "14151130",
   "metadata": {},
   "outputs": [
    {
     "data": {
      "text/plain": [
       "9"
      ]
     },
     "execution_count": 5,
     "metadata": {},
     "output_type": "execute_result"
    }
   ],
   "source": [
    "19//2"
   ]
  },
  {
   "cell_type": "code",
   "execution_count": null,
   "id": "771d18be",
   "metadata": {},
   "outputs": [],
   "source": []
  }
 ],
 "metadata": {
  "kernelspec": {
   "display_name": "Python 3",
   "language": "python",
   "name": "python3"
  },
  "language_info": {
   "codemirror_mode": {
    "name": "ipython",
    "version": 3
   },
   "file_extension": ".py",
   "mimetype": "text/x-python",
   "name": "python",
   "nbconvert_exporter": "python",
   "pygments_lexer": "ipython3",
   "version": "3.8.10"
  }
 },
 "nbformat": 4,
 "nbformat_minor": 5
}
